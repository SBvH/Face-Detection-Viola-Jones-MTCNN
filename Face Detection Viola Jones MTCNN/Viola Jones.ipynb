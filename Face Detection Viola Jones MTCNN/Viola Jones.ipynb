{
 "cells": [
  {
   "cell_type": "code",
   "execution_count": 42,
   "metadata": {},
   "outputs": [
    {
     "name": "stdout",
     "output_type": "stream",
     "text": [
      "4.1.1\n"
     ]
    }
   ],
   "source": [
    "# check opencv version\n",
    "import cv2\n",
    "# print version number\n",
    "print(cv2.__version__)"
   ]
  },
  {
   "cell_type": "code",
   "execution_count": 6,
   "metadata": {},
   "outputs": [],
   "source": [
    "# load the pre-trained model\n",
    "classifier = cv2.CascadeClassifier('haarcascade_frontalface_default.xml')"
   ]
  },
  {
   "cell_type": "code",
   "execution_count": 8,
   "metadata": {},
   "outputs": [
    {
     "name": "stdout",
     "output_type": "stream",
     "text": [
      "[2688 1608   91   91]\n",
      "[2026 1787   85   85]\n",
      "[ 739 2167  357  357]\n",
      "[2137 1659   28   28]\n",
      "[2130 1883   28   28]\n",
      "[1884 3088  158  158]\n",
      "[ 246 1810  130  130]\n",
      "[2308 2369   52   52]\n"
     ]
    }
   ],
   "source": [
    "# example of face detection with opencv cascade classifier\n",
    "from cv2 import imread\n",
    "from cv2 import CascadeClassifier\n",
    "# load the photograph\n",
    "pixels = imread('test1.jpg')\n",
    "# load the pre-trained model\n",
    "classifier = CascadeClassifier('haarcascade_frontalface_default.xml')\n",
    "# perform face detection\n",
    "bboxes = classifier.detectMultiScale(pixels)\n",
    "# print bounding box for each detected face\n",
    "for box in bboxes:\n",
    "\tprint(box)"
   ]
  },
  {
   "cell_type": "code",
   "execution_count": 44,
   "metadata": {},
   "outputs": [],
   "source": [
    "# plot photo with detected faces using opencv cascade classifier\n",
    "from cv2 import imread\n",
    "from cv2 import imshow\n",
    "from cv2 import waitKey\n",
    "from cv2 import destroyAllWindows\n",
    "from cv2 import CascadeClassifier\n",
    "from cv2 import rectangle\n",
    "# load the photograph\n",
    "pixels = imread('test1.jpg')\n",
    "pixels = cv2.resize(pixels,(240,240))\n",
    "#resize = ResizeWithAspectRatio(pixels, width=1280)\n",
    "# load the pre-trained model\n",
    "classifier = CascadeClassifier('haarcascade_frontalface_default.xml')\n",
    "# perform face detection\n",
    "bboxes = classifier.detectMultiScale(pixels)\n",
    "# print bounding box for each detected face\n",
    "for box in bboxes:\n",
    "\t# extract\n",
    "\tx, y, width, height = box\n",
    "\tx2, y2 = x + width, y + height\n",
    "\t# draw a rectangle over the pixels\n",
    "\trectangle(pixels, (x, y), (x2, y2), (0,0,255), 1)\n",
    "# show the image\n",
    "imshow('face detection', pixels)\n",
    "# keep the window open until we press a key\n",
    "waitKey(0)\n",
    "# close the window\n",
    "destroyAllWindows()"
   ]
  },
  {
   "cell_type": "code",
   "execution_count": 33,
   "metadata": {},
   "outputs": [
    {
     "name": "stdout",
     "output_type": "stream",
     "text": [
      "{'box': [3354, 3117, 31, 39], 'confidence': 0.8671313524246216, 'keypoints': {'left_eye': (3365, 3132), 'right_eye': (3379, 3128), 'nose': (3374, 3140), 'mouth_left': (3370, 3148), 'mouth_right': (3381, 3145)}}\n",
      "{'box': [3218, 2056, 19, 23], 'confidence': 0.8316187858581543, 'keypoints': {'left_eye': (3225, 2064), 'right_eye': (3234, 2064), 'nose': (3230, 2072), 'mouth_left': (3226, 2074), 'mouth_right': (3233, 2074)}}\n",
      "{'box': [3395, 1557, 49, 62], 'confidence': 0.8071523308753967, 'keypoints': {'left_eye': (3411, 1579), 'right_eye': (3431, 1575), 'nose': (3422, 1593), 'mouth_left': (3414, 1603), 'mouth_right': (3430, 1600)}}\n"
     ]
    }
   ],
   "source": [
    "# face detection with mtcnn on a photograph\n",
    "from matplotlib import pyplot\n",
    "from mtcnn.mtcnn import MTCNN\n",
    "# load image from file\n",
    "filename = 'test1.jpg'\n",
    "pixels = pyplot.imread(filename)\n",
    "# create the detector, using default weights\n",
    "detector = MTCNN()\n",
    "# detect faces in the image\n",
    "faces = detector.detect_faces(pixels)\n",
    "for face in faces:\n",
    "\tprint(face)"
   ]
  }
 ],
 "metadata": {
  "kernelspec": {
   "display_name": "Python 3",
   "language": "python",
   "name": "python3"
  },
  "language_info": {
   "codemirror_mode": {
    "name": "ipython",
    "version": 3
   },
   "file_extension": ".py",
   "mimetype": "text/x-python",
   "name": "python",
   "nbconvert_exporter": "python",
   "pygments_lexer": "ipython3",
   "version": "3.7.3"
  }
 },
 "nbformat": 4,
 "nbformat_minor": 2
}
